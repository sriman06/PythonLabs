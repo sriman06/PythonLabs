A = 'Sriman Mishra'
print(A)


B = A.replace('Sriman', 'Raman')


print(B)


A[2]


A[2:5]


C = A.upper()
print(C)


C = B.lower()
print(C)


C = C.title()
print(C)


C = A + ' ' + B
print(C)



